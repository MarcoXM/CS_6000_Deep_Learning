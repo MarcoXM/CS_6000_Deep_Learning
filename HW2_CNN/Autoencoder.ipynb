{
 "cells": [
  {
   "cell_type": "code",
   "execution_count": 1,
   "metadata": {},
   "outputs": [
    {
     "name": "stderr",
     "output_type": "stream",
     "text": [
      "Using TensorFlow backend.\n",
      "/anaconda3/envs/keras/lib/python3.6/importlib/_bootstrap.py:219: RuntimeWarning: compiletime version 3.5 of module 'tensorflow.python.framework.fast_tensor_util' does not match runtime version 3.6\n",
      "  return f(*args, **kwds)\n"
     ]
    }
   ],
   "source": [
    "import numpy as np\n",
    "import keras\n",
    "import tensorflow as tf\n",
    "from keras.models import Sequential\n",
    "from keras.layers import Dense, Conv2D,Conv2DTranspose,Flatten,MaxPool2D\n",
    "from keras.utils import np_utils\n",
    "from sklearn.model_selection import train_test_split\n",
    "import matplotlib.pyplot as plt\n",
    "import random"
   ]
  },
  {
   "cell_type": "code",
   "execution_count": 2,
   "metadata": {},
   "outputs": [],
   "source": [
    "def seed_everything(SEED):\n",
    "    np.random.seed(SEED)\n",
    "    tf.set_random_seed(SEED)\n",
    "    random.seed(SEED)\n",
    "\n",
    "seed_everything(224)"
   ]
  },
  {
   "cell_type": "code",
   "execution_count": 3,
   "metadata": {},
   "outputs": [],
   "source": [
    "x_train = np.load('/Users/marcowang/CS_6000_Deep_Learning/HW1__NN/mnist.train.npy')\n",
    "y_train = np.load('/Users/marcowang/CS_6000_Deep_Learning/HW1__NN/mnist.trainlabel.npy')\n",
    "x_test = np.load('/Users/marcowang/CS_6000_Deep_Learning/HW1__NN/mnist.test.npy')"
   ]
  },
  {
   "cell_type": "code",
   "execution_count": 4,
   "metadata": {},
   "outputs": [
    {
     "data": {
      "text/plain": [
       "(56000, 28, 28)"
      ]
     },
     "execution_count": 4,
     "metadata": {},
     "output_type": "execute_result"
    }
   ],
   "source": [
    "x_train.shape"
   ]
  },
  {
   "cell_type": "code",
   "execution_count": 5,
   "metadata": {},
   "outputs": [
    {
     "name": "stdout",
     "output_type": "stream",
     "text": [
      "_________________________________________________________________\n",
      "Layer (type)                 Output Shape              Param #   \n",
      "=================================================================\n",
      "conv2d_1 (Conv2D)            (None, 16, 28, 28)        160       \n",
      "_________________________________________________________________\n",
      "max_pooling2d_1 (MaxPooling2 (None, 16, 14, 14)        0         \n",
      "_________________________________________________________________\n",
      "conv2d_2 (Conv2D)            (None, 4, 14, 14)         580       \n",
      "_________________________________________________________________\n",
      "max_pooling2d_2 (MaxPooling2 (None, 4, 7, 7)           0         \n",
      "_________________________________________________________________\n",
      "conv2d_transpose_1 (Conv2DTr (None, 16, 14, 14)        272       \n",
      "_________________________________________________________________\n",
      "conv2d_transpose_2 (Conv2DTr (None, 1, 28, 28)         65        \n",
      "=================================================================\n",
      "Total params: 1,077\n",
      "Trainable params: 1,077\n",
      "Non-trainable params: 0\n",
      "_________________________________________________________________\n"
     ]
    }
   ],
   "source": [
    "ae = Sequential()\n",
    "ae.add(Conv2D(input_shape = np.expand_dims(x_train,1).shape[1:],\n",
    "              filters = 16,\n",
    "              data_format = \"channels_first\",\n",
    "              kernel_size=(3,3),strides = 1,\n",
    "             padding = \"same\",activation=\"relu\"))\n",
    "ae.add(MaxPool2D(pool_size=(2, 2),data_format = \"channels_first\"))\n",
    "ae.add(Conv2D(\n",
    "              filters = 4,\n",
    "              data_format = \"channels_first\",\n",
    "              kernel_size=(3,3),strides = 1,\n",
    "             padding = \"same\",activation=\"relu\"))\n",
    "ae.add(MaxPool2D(pool_size=(2, 2),data_format = \"channels_first\"))\n",
    "\n",
    "ae.add(Conv2DTranspose(\n",
    "              filters = 16,\n",
    "              data_format = \"channels_first\",\n",
    "              kernel_size=(2,2),strides = 2,activation=\"relu\"))\n",
    "ae.add(Conv2DTranspose(\n",
    "              filters = 1,\n",
    "              data_format = \"channels_first\",\n",
    "              kernel_size=(2,2),strides = 2,activation=\"sigmoid\"))\n",
    "ae.compile(loss='mse', optimizer='adam',metrics=['accuracy'])\n",
    "ae.summary()\n"
   ]
  },
  {
   "cell_type": "code",
   "execution_count": 10,
   "metadata": {},
   "outputs": [],
   "source": [
    "x_train = x_train.reshape(-1,1,28,28)"
   ]
  },
  {
   "cell_type": "code",
   "execution_count": 11,
   "metadata": {},
   "outputs": [
    {
     "name": "stdout",
     "output_type": "stream",
     "text": [
      "Epoch 1/20\n",
      "56000/56000 [==============================] - 173s - loss: 0.0404 - acc: 0.1897   \n",
      "Epoch 2/20\n",
      "56000/56000 [==============================] - 171s - loss: 0.0159 - acc: 0.2243   \n",
      "Epoch 3/20\n",
      "56000/56000 [==============================] - 175s - loss: 0.0143 - acc: 0.2335   \n",
      "Epoch 4/20\n",
      "56000/56000 [==============================] - 183s - loss: 0.0134 - acc: 0.2668   \n",
      "Epoch 5/20\n",
      "56000/56000 [==============================] - 187s - loss: 0.0129 - acc: 0.3063   \n",
      "Epoch 6/20\n",
      "56000/56000 [==============================] - 169s - loss: 0.0125 - acc: 0.3297   \n",
      "Epoch 7/20\n",
      "56000/56000 [==============================] - 182s - loss: 0.0122 - acc: 0.3432   \n",
      "Epoch 8/20\n",
      "56000/56000 [==============================] - 172s - loss: 0.0120 - acc: 0.3403   \n",
      "Epoch 9/20\n",
      "56000/56000 [==============================] - 167s - loss: 0.0118 - acc: 0.3449   \n",
      "Epoch 10/20\n",
      "56000/56000 [==============================] - 164s - loss: 0.0117 - acc: 0.3523   \n",
      "Epoch 11/20\n",
      "56000/56000 [==============================] - 166s - loss: 0.0116 - acc: 0.3480   \n",
      "Epoch 12/20\n",
      "56000/56000 [==============================] - 172s - loss: 0.0115 - acc: 0.3097   \n",
      "Epoch 13/20\n",
      "56000/56000 [==============================] - 183s - loss: 0.0114 - acc: 0.2851   \n",
      "Epoch 14/20\n",
      "56000/56000 [==============================] - 178s - loss: 0.0113 - acc: 0.2793   \n",
      "Epoch 15/20\n",
      "56000/56000 [==============================] - 182s - loss: 0.0113 - acc: 0.2838   \n",
      "Epoch 16/20\n",
      "56000/56000 [==============================] - 182s - loss: 0.0112 - acc: 0.2778   \n",
      "Epoch 17/20\n",
      "56000/56000 [==============================] - 174s - loss: 0.0111 - acc: 0.2744   \n",
      "Epoch 18/20\n",
      "56000/56000 [==============================] - 168s - loss: 0.0111 - acc: 0.2651   \n",
      "Epoch 19/20\n",
      "56000/56000 [==============================] - 172s - loss: 0.0110 - acc: 0.2631   \n",
      "Epoch 20/20\n",
      "56000/56000 [==============================] - 179s - loss: 0.0110 - acc: 0.2613   \n"
     ]
    },
    {
     "data": {
      "text/plain": [
       "<keras.callbacks.History at 0x141540898>"
      ]
     },
     "execution_count": 11,
     "metadata": {},
     "output_type": "execute_result"
    }
   ],
   "source": [
    "ae.fit(x_train,x_train,epochs=20)"
   ]
  },
  {
   "cell_type": "code",
   "execution_count": 18,
   "metadata": {},
   "outputs": [
    {
     "data": {
      "image/png": "[encoded data removed]",
      "text/plain": [
       "<Figure size 1800x288 with 20 Axes>"
      ]
     },
     "metadata": {
      "needs_background": "light"
     },
     "output_type": "display_data"
    }
   ],
   "source": [
    "img = x_test[:10]\n",
    "output = ae.predict(img.reshape(-1,1,28,28))\n",
    "fig, axes = plt.subplots(nrows=2, ncols=10, sharex=True, sharey=True, figsize=(25,4))\n",
    "\n",
    "for in_out, row in zip([img, output], axes):\n",
    "    for i, ax in zip(in_out, row):\n",
    "        ax.imshow(i.reshape(28,28), cmap='gray')\n",
    "        ax.get_xaxis().set_visible(False)\n",
    "        ax.get_yaxis().set_visible(False)"
   ]
  },
  {
   "cell_type": "code",
   "execution_count": null,
   "metadata": {},
   "outputs": [],
   "source": [
    "def noiseImage(image):\n",
    "    '''\n",
    "    image: numpy image data\n",
    "    return noised image numpy data\n",
    "    '''\n",
    "    noise = np.random.normal(loc=0.5, scale=0.5, size=image.shape)\n",
    "    noisedimage = np.clip(image + noise,0.,1.)\n",
    "    return noisedimage"
   ]
  }
 ],
 "metadata": {
  "kernelspec": {
   "display_name": "Python 3",
   "language": "python",
   "name": "python3"
  },
  "language_info": {
   "codemirror_mode": {
    "name": "ipython",
    "version": 3
   },
   "file_extension": ".py",
   "mimetype": "text/x-python",
   "name": "python",
   "nbconvert_exporter": "python",
   "pygments_lexer": "ipython3",
   "version": "3.6.7"
  }
 },
 "nbformat": 4,
 "nbformat_minor": 2
}
