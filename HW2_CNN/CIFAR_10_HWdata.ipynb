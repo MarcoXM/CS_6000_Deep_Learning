{
 "cells": [
  {
   "cell_type": "markdown",
   "metadata": {},
   "source": [
    "# Convolutional Neural Networks\n",
    "---\n",
    "In this notebook, we generate a dataset from CIFAR-10 database.\n",
    "\n",
    "\n",
    "<img src='notebook_ims/cifar_data.png' width=70% height=70% />"
   ]
  },
  {
   "cell_type": "code",
   "execution_count": 1,
   "metadata": {},
   "outputs": [
    {
     "name": "stdout",
     "output_type": "stream",
     "text": [
      "Files already downloaded and verified\n",
      "Files already downloaded and verified\n"
     ]
    }
   ],
   "source": [
    "from torchvision import datasets\n",
    "import torchvision.transforms as transforms\n",
    "from sklearn.model_selection import train_test_split\n",
    "import numpy as np\n",
    "import pandas as pd \n",
    "\n",
    "def transform_trainNtest(seed = 224,testpercentage =0.2)\n",
    "    #getting the normalized data from Torch.dataset\n",
    "\n",
    "    transform = transforms.Compose([\n",
    "        transforms.ToTensor(),\n",
    "        transforms.Normalize((0.5, 0.5, 0.5), (0.5, 0.5, 0.5))\n",
    "        ])\n",
    "\n",
    "    train_data = datasets.CIFAR10('data', train=True,\n",
    "                                  download=True, transform=transform)\n",
    "    test_data = datasets.CIFAR10('data', train=False,\n",
    "                                 download=True, transform=transform)\n",
    "    #transform the X \n",
    "    #labels\n",
    "    labelall = np.zeros(len(train_data)+len(test_data),dtype = 'int')\n",
    "    datall = np.zeros((len(train_data)+len(test_data),3,32,32))\n",
    "    for i in range(len(train_data)):\n",
    "        datall[i,:,:,:] = np.expand_dims(train_data[i][0].numpy(),0)\n",
    "        labelall[i] = train_data[i][1]\n",
    "    for j in range(len(test_data)):\n",
    "        #print(j)\n",
    "        datall[len(train)+j,:,:,:] = np.expand_dims(test_data[j][0].numpy(),0)\n",
    "        #print(j)\n",
    "        labelall[len(train)+j] = int(test_data[j][1])\n",
    "    \n",
    "    np.random.seed(seed)\n",
    "    x_train,x_test,y_train,y_test = train_test_split(datall,labelall,test_size = testpercentage,random_state=seed)\n",
    "    np.save('cifar.train.npy',x_train)\n",
    "    np.save('cifar.test.npy',x_test)\n",
    "    np.save('cifar.trainlabel.npy',y_train)\n",
    "        \n",
    "    submissiondict = {'id': list(range(1,len(train_data)+len(test_data)+1)),\n",
    "                  'class' : y_test}\n",
    "    df = pd.DataFrame(submissiondict)\n",
    "    print(df.head())\n",
    "    df.to_csv('answer.csv',index=False) # This is the answer for HW 2\n",
    "    print('Finish!!'')\n",
    "\n"
   ]
  },
  {
   "cell_type": "code",
   "execution_count": null,
   "metadata": {},
   "outputs": [],
   "source": [
    "\n"
   ]
  },
  {
   "cell_type": "code",
   "execution_count": 13,
   "metadata": {},
   "outputs": [
    {
     "data": {
      "text/html": [
       "<div>\n",
       "<style scoped>\n",
       "    .dataframe tbody tr th:only-of-type {\n",
       "        vertical-align: middle;\n",
       "    }\n",
       "\n",
       "    .dataframe tbody tr th {\n",
       "        vertical-align: top;\n",
       "    }\n",
       "\n",
       "    .dataframe thead th {\n",
       "        text-align: right;\n",
       "    }\n",
       "</style>\n",
       "<table border=\"1\" class=\"dataframe\">\n",
       "  <thead>\n",
       "    <tr style=\"text-align: right;\">\n",
       "      <th></th>\n",
       "      <th>id</th>\n",
       "      <th>class</th>\n",
       "    </tr>\n",
       "  </thead>\n",
       "  <tbody>\n",
       "    <tr>\n",
       "      <th>0</th>\n",
       "      <td>1</td>\n",
       "      <td>5</td>\n",
       "    </tr>\n",
       "    <tr>\n",
       "      <th>1</th>\n",
       "      <td>2</td>\n",
       "      <td>9</td>\n",
       "    </tr>\n",
       "    <tr>\n",
       "      <th>2</th>\n",
       "      <td>3</td>\n",
       "      <td>4</td>\n",
       "    </tr>\n",
       "    <tr>\n",
       "      <th>3</th>\n",
       "      <td>4</td>\n",
       "      <td>4</td>\n",
       "    </tr>\n",
       "    <tr>\n",
       "      <th>4</th>\n",
       "      <td>5</td>\n",
       "      <td>5</td>\n",
       "    </tr>\n",
       "  </tbody>\n",
       "</table>\n",
       "</div>"
      ],
      "text/plain": [
       "   id  class\n",
       "0   1      5\n",
       "1   2      9\n",
       "2   3      4\n",
       "3   4      4\n",
       "4   5      5"
      ]
     },
     "execution_count": 13,
     "metadata": {},
     "output_type": "execute_result"
    }
   ],
   "source": [
    "sample = np.random.randint(10, size=12000)\n",
    "submissiondict = {'id': list(range(1,12001)),\n",
    "                  'class' : sample}\n",
    "dfsub = pd.DataFrame(submissiondict)\n",
    "dfsub.head()"
   ]
  },
  {
   "cell_type": "code",
   "execution_count": 14,
   "metadata": {},
   "outputs": [],
   "source": [
    "dfsub.to_csv('sample_submission.csv',index=False)\n"
   ]
  },
  {
   "cell_type": "code",
   "execution_count": null,
   "metadata": {},
   "outputs": [],
   "source": []
  }
 ],
 "metadata": {
  "kernelspec": {
   "display_name": "Python 3",
   "language": "python",
   "name": "python3"
  },
  "language_info": {
   "codemirror_mode": {
    "name": "ipython",
    "version": 3
   },
   "file_extension": ".py",
   "mimetype": "text/x-python",
   "name": "python",
   "nbconvert_exporter": "python",
   "pygments_lexer": "ipython3",
   "version": "3.7.3"
  }
 },
 "nbformat": 4,
 "nbformat_minor": 2
}
